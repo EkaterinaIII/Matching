{
 "cells": [
  {
   "cell_type": "markdown",
   "id": "3c84a745",
   "metadata": {
    "toc": true
   },
   "source": [
    "<h1>Table of Contents<span class=\"tocSkip\"></span></h1>\n",
    "<div class=\"toc\"><ul class=\"toc-item\"><li><span><a href=\"#Описание-проекта\" data-toc-modified-id=\"Описание-проекта-1\"><span class=\"toc-item-num\">1&nbsp;&nbsp;</span>Описание проекта</a></span></li><li><span><a href=\"#Загрузка-данных\" data-toc-modified-id=\"Загрузка-данных-2\"><span class=\"toc-item-num\">2&nbsp;&nbsp;</span>Загрузка данных</a></span></li><li><span><a href=\"#Масштабирование\" data-toc-modified-id=\"Масштабирование-3\"><span class=\"toc-item-num\">3&nbsp;&nbsp;</span>Масштабирование</a></span></li><li><span><a href=\"#Двухэтапная-модель-FAISS+CatBoost\" data-toc-modified-id=\"Двухэтапная-модель-FAISS+CatBoost-4\"><span class=\"toc-item-num\">4&nbsp;&nbsp;</span>Двухэтапная модель FAISS+CatBoost</a></span><ul class=\"toc-item\"><li><span><a href=\"#Создание-индексов\" data-toc-modified-id=\"Создание-индексов-4.1\"><span class=\"toc-item-num\">4.1&nbsp;&nbsp;</span>Создание индексов</a></span></li><li><span><a href=\"#Отбор-кандидатов-FAISS\" data-toc-modified-id=\"Отбор-кандидатов-FAISS-4.2\"><span class=\"toc-item-num\">4.2&nbsp;&nbsp;</span>Отбор кандидатов FAISS</a></span><ul class=\"toc-item\"><li><span><a href=\"#Объединим-кандидатов-в-DataFrame\" data-toc-modified-id=\"Объединим-кандидатов-в-DataFrame-4.2.1\"><span class=\"toc-item-num\">4.2.1&nbsp;&nbsp;</span>Объединим кандидатов в DataFrame</a></span></li><li><span><a href=\"#Добавим-признаки\" data-toc-modified-id=\"Добавим-признаки-4.2.2\"><span class=\"toc-item-num\">4.2.2&nbsp;&nbsp;</span>Добавим признаки</a></span></li></ul></li><li><span><a href=\"#Формирование-датасетов-для-обучения-катбуста\" data-toc-modified-id=\"Формирование-датасетов-для-обучения-катбуста-4.3\"><span class=\"toc-item-num\">4.3&nbsp;&nbsp;</span>Формирование датасетов для обучения катбуста</a></span><ul class=\"toc-item\"><li><span><a href=\"#Добавим-новые-признаки\" data-toc-modified-id=\"Добавим-новые-признаки-4.3.1\"><span class=\"toc-item-num\">4.3.1&nbsp;&nbsp;</span>Добавим новые признаки</a></span></li></ul></li><li><span><a href=\"#Обучение-CatBoostClassifier\" data-toc-modified-id=\"Обучение-CatBoostClassifier-4.4\"><span class=\"toc-item-num\">4.4&nbsp;&nbsp;</span>Обучение CatBoostClassifier</a></span></li><li><span><a href=\"#Важность-признаков\" data-toc-modified-id=\"Важность-признаков-4.5\"><span class=\"toc-item-num\">4.5&nbsp;&nbsp;</span>Важность признаков</a></span></li><li><span><a href=\"#Тест-на-validation\" data-toc-modified-id=\"Тест-на-validation-4.6\"><span class=\"toc-item-num\">4.6&nbsp;&nbsp;</span>Тест на validation</a></span><ul class=\"toc-item\"><li><span><a href=\"#Отбор-кандидатов-FAISS\" data-toc-modified-id=\"Отбор-кандидатов-FAISS-4.6.1\"><span class=\"toc-item-num\">4.6.1&nbsp;&nbsp;</span>Отбор кандидатов FAISS</a></span></li><li><span><a href=\"#Объединим-кандидатов-в-DataFrame\" data-toc-modified-id=\"Объединим-кандидатов-в-DataFrame-4.6.2\"><span class=\"toc-item-num\">4.6.2&nbsp;&nbsp;</span>Объединим кандидатов в DataFrame</a></span></li><li><span><a href=\"#Добавим-признаки\" data-toc-modified-id=\"Добавим-признаки-4.6.3\"><span class=\"toc-item-num\">4.6.3&nbsp;&nbsp;</span>Добавим признаки</a></span></li><li><span><a href=\"#Ранжирование\" data-toc-modified-id=\"Ранжирование-4.6.4\"><span class=\"toc-item-num\">4.6.4&nbsp;&nbsp;</span>Ранжирование</a></span></li><li><span><a href=\"#Расчет-метрики\" data-toc-modified-id=\"Расчет-метрики-4.6.5\"><span class=\"toc-item-num\">4.6.5&nbsp;&nbsp;</span>Расчет метрики</a></span></li></ul></li></ul></li><li><span><a href=\"#Выводы:\" data-toc-modified-id=\"Выводы:-5\"><span class=\"toc-item-num\">5&nbsp;&nbsp;</span>Выводы:</a></span></li></ul></div>"
   ]
  },
  {
   "cell_type": "markdown",
   "id": "d5b2cc2b",
   "metadata": {},
   "source": [
    "# Matching"
   ]
  },
  {
   "cell_type": "markdown",
   "id": "5e1d8aab",
   "metadata": {},
   "source": [
    "## Описание проекта"
   ]
  },
  {
   "cell_type": "markdown",
   "id": "8f91b09a",
   "metadata": {},
   "source": [
    "Есть реальные данные от одного из крупнейших маркетплейсов страны. Для каждого товара уже сформированы числовые векторы размерностью 72. Всего, наборов для обучения ~ 3 млн. \n",
    "\n",
    "**Цель:** разработать модель для поиска товаров, с высоким значением метрики accuracy@5 (не меньше 80%) \n",
    "\n",
    "**Задачи:**\n",
    "\n",
    "- разработать алгоритм, который для всех товаров из validation.csv предложит несколько вариантов наиболее похожих товаров из base;\n",
    "- оценить качество алгоритма по метрике accuracy@5.\n",
    "\n",
    "\n",
    "**Стэк:** FAISS, KNN, ранжирующие модели, индексирование в векторных базах"
   ]
  },
  {
   "cell_type": "markdown",
   "id": "b5b57449",
   "metadata": {},
   "source": [
    "## Загрузка данных"
   ]
  },
  {
   "cell_type": "code",
   "execution_count": 1,
   "id": "4175937c",
   "metadata": {},
   "outputs": [],
   "source": [
    "#conda install -c conda-forge faiss"
   ]
  },
  {
   "cell_type": "code",
   "execution_count": 2,
   "id": "ae34040e",
   "metadata": {},
   "outputs": [],
   "source": [
    "import pandas as pd\n",
    "import numpy as np\n",
    "import faiss\n",
    "import phik\n",
    "\n",
    "from catboost import CatBoostClassifier\n",
    "from sklearn.preprocessing import StandardScaler\n",
    "\n",
    "import matplotlib.pyplot as plt\n",
    "\n",
    "import time\n",
    "from tqdm import tqdm\n",
    "\n",
    "import warnings\n",
    "warnings.filterwarnings(\"ignore\")"
   ]
  },
  {
   "cell_type": "code",
   "execution_count": 3,
   "id": "c5a6fc0e",
   "metadata": {},
   "outputs": [],
   "source": [
    "path='C:/Users/zoika/OneDrive/Рабочий стол/YP ds54/Practika/Mathing/'"
   ]
  },
  {
   "cell_type": "code",
   "execution_count": 4,
   "id": "ad4581ea",
   "metadata": {
    "scrolled": true
   },
   "outputs": [
    {
     "data": {
      "text/plain": [
       "(2918139, 72)"
      ]
     },
     "metadata": {},
     "output_type": "display_data"
    },
    {
     "data": {
      "text/html": [
       "<div>\n",
       "<style scoped>\n",
       "    .dataframe tbody tr th:only-of-type {\n",
       "        vertical-align: middle;\n",
       "    }\n",
       "\n",
       "    .dataframe tbody tr th {\n",
       "        vertical-align: top;\n",
       "    }\n",
       "\n",
       "    .dataframe thead th {\n",
       "        text-align: right;\n",
       "    }\n",
       "</style>\n",
       "<table border=\"1\" class=\"dataframe\">\n",
       "  <thead>\n",
       "    <tr style=\"text-align: right;\">\n",
       "      <th></th>\n",
       "      <th>0</th>\n",
       "      <th>1</th>\n",
       "      <th>2</th>\n",
       "      <th>3</th>\n",
       "      <th>4</th>\n",
       "      <th>5</th>\n",
       "      <th>6</th>\n",
       "      <th>7</th>\n",
       "      <th>8</th>\n",
       "      <th>9</th>\n",
       "      <th>...</th>\n",
       "      <th>62</th>\n",
       "      <th>63</th>\n",
       "      <th>64</th>\n",
       "      <th>65</th>\n",
       "      <th>66</th>\n",
       "      <th>67</th>\n",
       "      <th>68</th>\n",
       "      <th>69</th>\n",
       "      <th>70</th>\n",
       "      <th>71</th>\n",
       "    </tr>\n",
       "    <tr>\n",
       "      <th>Id</th>\n",
       "      <th></th>\n",
       "      <th></th>\n",
       "      <th></th>\n",
       "      <th></th>\n",
       "      <th></th>\n",
       "      <th></th>\n",
       "      <th></th>\n",
       "      <th></th>\n",
       "      <th></th>\n",
       "      <th></th>\n",
       "      <th></th>\n",
       "      <th></th>\n",
       "      <th></th>\n",
       "      <th></th>\n",
       "      <th></th>\n",
       "      <th></th>\n",
       "      <th></th>\n",
       "      <th></th>\n",
       "      <th></th>\n",
       "      <th></th>\n",
       "      <th></th>\n",
       "    </tr>\n",
       "  </thead>\n",
       "  <tbody>\n",
       "    <tr>\n",
       "      <th>0-base</th>\n",
       "      <td>-115.0625</td>\n",
       "      <td>11.15625</td>\n",
       "      <td>-64.4375</td>\n",
       "      <td>-118.875</td>\n",
       "      <td>216.5</td>\n",
       "      <td>-104.6875</td>\n",
       "      <td>-469.0</td>\n",
       "      <td>44.34375</td>\n",
       "      <td>120.9375</td>\n",
       "      <td>181.5</td>\n",
       "      <td>...</td>\n",
       "      <td>-42.8125</td>\n",
       "      <td>38.8125</td>\n",
       "      <td>-151.75</td>\n",
       "      <td>-74.375</td>\n",
       "      <td>63.65625</td>\n",
       "      <td>-4.703125</td>\n",
       "      <td>92.9375</td>\n",
       "      <td>115.25</td>\n",
       "      <td>-112.75</td>\n",
       "      <td>-60.84375</td>\n",
       "    </tr>\n",
       "  </tbody>\n",
       "</table>\n",
       "<p>1 rows × 72 columns</p>\n",
       "</div>"
      ],
      "text/plain": [
       "               0         1        2        3      4         5      6  \\\n",
       "Id                                                                     \n",
       "0-base -115.0625  11.15625 -64.4375 -118.875  216.5 -104.6875 -469.0   \n",
       "\n",
       "               7         8      9  ...       62       63      64      65  \\\n",
       "Id                                 ...                                     \n",
       "0-base  44.34375  120.9375  181.5  ... -42.8125  38.8125 -151.75 -74.375   \n",
       "\n",
       "              66        67       68      69      70        71  \n",
       "Id                                                             \n",
       "0-base  63.65625 -4.703125  92.9375  115.25 -112.75 -60.84375  \n",
       "\n",
       "[1 rows x 72 columns]"
      ]
     },
     "execution_count": 4,
     "metadata": {},
     "output_type": "execute_result"
    }
   ],
   "source": [
    "base = pd.read_csv(path+'base.csv',index_col=0).astype(np.float16)\n",
    "display(base.shape)\n",
    "base.head(1)"
   ]
  },
  {
   "cell_type": "code",
   "execution_count": 5,
   "id": "d91aa2d8",
   "metadata": {},
   "outputs": [
    {
     "data": {
      "text/plain": [
       "(100000, 73)"
      ]
     },
     "metadata": {},
     "output_type": "display_data"
    },
    {
     "data": {
      "text/html": [
       "<div>\n",
       "<style scoped>\n",
       "    .dataframe tbody tr th:only-of-type {\n",
       "        vertical-align: middle;\n",
       "    }\n",
       "\n",
       "    .dataframe tbody tr th {\n",
       "        vertical-align: top;\n",
       "    }\n",
       "\n",
       "    .dataframe thead th {\n",
       "        text-align: right;\n",
       "    }\n",
       "</style>\n",
       "<table border=\"1\" class=\"dataframe\">\n",
       "  <thead>\n",
       "    <tr style=\"text-align: right;\">\n",
       "      <th></th>\n",
       "      <th>0</th>\n",
       "      <th>1</th>\n",
       "      <th>2</th>\n",
       "      <th>3</th>\n",
       "      <th>4</th>\n",
       "      <th>5</th>\n",
       "      <th>6</th>\n",
       "      <th>7</th>\n",
       "      <th>8</th>\n",
       "      <th>9</th>\n",
       "      <th>...</th>\n",
       "      <th>63</th>\n",
       "      <th>64</th>\n",
       "      <th>65</th>\n",
       "      <th>66</th>\n",
       "      <th>67</th>\n",
       "      <th>68</th>\n",
       "      <th>69</th>\n",
       "      <th>70</th>\n",
       "      <th>71</th>\n",
       "      <th>Target</th>\n",
       "    </tr>\n",
       "    <tr>\n",
       "      <th>Id</th>\n",
       "      <th></th>\n",
       "      <th></th>\n",
       "      <th></th>\n",
       "      <th></th>\n",
       "      <th></th>\n",
       "      <th></th>\n",
       "      <th></th>\n",
       "      <th></th>\n",
       "      <th></th>\n",
       "      <th></th>\n",
       "      <th></th>\n",
       "      <th></th>\n",
       "      <th></th>\n",
       "      <th></th>\n",
       "      <th></th>\n",
       "      <th></th>\n",
       "      <th></th>\n",
       "      <th></th>\n",
       "      <th></th>\n",
       "      <th></th>\n",
       "      <th></th>\n",
       "    </tr>\n",
       "  </thead>\n",
       "  <tbody>\n",
       "    <tr>\n",
       "      <th>0-query</th>\n",
       "      <td>-53.882748</td>\n",
       "      <td>17.971436</td>\n",
       "      <td>-42.117104</td>\n",
       "      <td>-183.93668</td>\n",
       "      <td>187.51749</td>\n",
       "      <td>-87.14493</td>\n",
       "      <td>-347.360606</td>\n",
       "      <td>38.307602</td>\n",
       "      <td>109.08556</td>\n",
       "      <td>30.413513</td>\n",
       "      <td>...</td>\n",
       "      <td>70.10736</td>\n",
       "      <td>-155.80257</td>\n",
       "      <td>-101.965943</td>\n",
       "      <td>65.90379</td>\n",
       "      <td>34.4575</td>\n",
       "      <td>62.642094</td>\n",
       "      <td>134.7636</td>\n",
       "      <td>-415.750254</td>\n",
       "      <td>-25.958572</td>\n",
       "      <td>675816-base</td>\n",
       "    </tr>\n",
       "  </tbody>\n",
       "</table>\n",
       "<p>1 rows × 73 columns</p>\n",
       "</div>"
      ],
      "text/plain": [
       "                 0          1          2          3          4         5  \\\n",
       "Id                                                                         \n",
       "0-query -53.882748  17.971436 -42.117104 -183.93668  187.51749 -87.14493   \n",
       "\n",
       "                  6          7          8          9  ...        63  \\\n",
       "Id                                                    ...             \n",
       "0-query -347.360606  38.307602  109.08556  30.413513  ...  70.10736   \n",
       "\n",
       "                64          65        66       67         68        69  \\\n",
       "Id                                                                       \n",
       "0-query -155.80257 -101.965943  65.90379  34.4575  62.642094  134.7636   \n",
       "\n",
       "                 70         71       Target  \n",
       "Id                                           \n",
       "0-query -415.750254 -25.958572  675816-base  \n",
       "\n",
       "[1 rows x 73 columns]"
      ]
     },
     "execution_count": 5,
     "metadata": {},
     "output_type": "execute_result"
    }
   ],
   "source": [
    "train = pd.read_csv(path+'train.csv',index_col=0)\n",
    "train.loc[:,'0':'71'].astype(np.float16)\n",
    "display(train.shape)\n",
    "train.head(1)"
   ]
  },
  {
   "cell_type": "markdown",
   "id": "899b33cd",
   "metadata": {},
   "source": [
    "## Масштабирование"
   ]
  },
  {
   "cell_type": "code",
   "execution_count": 6,
   "id": "18d42546",
   "metadata": {},
   "outputs": [],
   "source": [
    "features=train.copy().drop(['Target'] ,axis=1) \n",
    "targets=train[\"Target\"].copy()"
   ]
  },
  {
   "cell_type": "code",
   "execution_count": 7,
   "id": "e8ee36be",
   "metadata": {},
   "outputs": [
    {
     "data": {
      "text/html": [
       "<div>\n",
       "<style scoped>\n",
       "    .dataframe tbody tr th:only-of-type {\n",
       "        vertical-align: middle;\n",
       "    }\n",
       "\n",
       "    .dataframe tbody tr th {\n",
       "        vertical-align: top;\n",
       "    }\n",
       "\n",
       "    .dataframe thead th {\n",
       "        text-align: right;\n",
       "    }\n",
       "</style>\n",
       "<table border=\"1\" class=\"dataframe\">\n",
       "  <thead>\n",
       "    <tr style=\"text-align: right;\">\n",
       "      <th></th>\n",
       "      <th>0</th>\n",
       "      <th>1</th>\n",
       "      <th>2</th>\n",
       "      <th>3</th>\n",
       "      <th>4</th>\n",
       "      <th>5</th>\n",
       "      <th>6</th>\n",
       "      <th>7</th>\n",
       "      <th>8</th>\n",
       "      <th>9</th>\n",
       "      <th>...</th>\n",
       "      <th>62</th>\n",
       "      <th>63</th>\n",
       "      <th>64</th>\n",
       "      <th>65</th>\n",
       "      <th>66</th>\n",
       "      <th>67</th>\n",
       "      <th>68</th>\n",
       "      <th>69</th>\n",
       "      <th>70</th>\n",
       "      <th>71</th>\n",
       "    </tr>\n",
       "    <tr>\n",
       "      <th>Id</th>\n",
       "      <th></th>\n",
       "      <th></th>\n",
       "      <th></th>\n",
       "      <th></th>\n",
       "      <th></th>\n",
       "      <th></th>\n",
       "      <th></th>\n",
       "      <th></th>\n",
       "      <th></th>\n",
       "      <th></th>\n",
       "      <th></th>\n",
       "      <th></th>\n",
       "      <th></th>\n",
       "      <th></th>\n",
       "      <th></th>\n",
       "      <th></th>\n",
       "      <th></th>\n",
       "      <th></th>\n",
       "      <th></th>\n",
       "      <th></th>\n",
       "      <th></th>\n",
       "    </tr>\n",
       "  </thead>\n",
       "  <tbody>\n",
       "    <tr>\n",
       "      <th>0-base</th>\n",
       "      <td>-1.158203</td>\n",
       "      <td>0.621094</td>\n",
       "      <td>-0.51416</td>\n",
       "      <td>1.399414</td>\n",
       "      <td>2.269531</td>\n",
       "      <td>-1.160156</td>\n",
       "      <td>-0.282715</td>\n",
       "      <td>0.373535</td>\n",
       "      <td>-0.432129</td>\n",
       "      <td>0.885254</td>\n",
       "      <td>...</td>\n",
       "      <td>1.189453</td>\n",
       "      <td>0.190918</td>\n",
       "      <td>0.073914</td>\n",
       "      <td>-0.894531</td>\n",
       "      <td>-2.269531</td>\n",
       "      <td>-0.510254</td>\n",
       "      <td>0.293213</td>\n",
       "      <td>-0.014954</td>\n",
       "      <td>1.782227</td>\n",
       "      <td>-0.312744</td>\n",
       "    </tr>\n",
       "    <tr>\n",
       "      <th>1-base</th>\n",
       "      <td>2.076172</td>\n",
       "      <td>1.060547</td>\n",
       "      <td>-0.65332</td>\n",
       "      <td>-1.000977</td>\n",
       "      <td>-1.157227</td>\n",
       "      <td>-0.501465</td>\n",
       "      <td>1.130859</td>\n",
       "      <td>-0.871582</td>\n",
       "      <td>-0.628906</td>\n",
       "      <td>1.098633</td>\n",
       "      <td>...</td>\n",
       "      <td>-1.271484</td>\n",
       "      <td>0.270020</td>\n",
       "      <td>-0.074646</td>\n",
       "      <td>-1.096680</td>\n",
       "      <td>0.217041</td>\n",
       "      <td>0.014435</td>\n",
       "      <td>1.712891</td>\n",
       "      <td>0.058838</td>\n",
       "      <td>1.854492</td>\n",
       "      <td>-0.281250</td>\n",
       "    </tr>\n",
       "  </tbody>\n",
       "</table>\n",
       "<p>2 rows × 72 columns</p>\n",
       "</div>"
      ],
      "text/plain": [
       "               0         1        2         3         4         5         6  \\\n",
       "Id                                                                            \n",
       "0-base -1.158203  0.621094 -0.51416  1.399414  2.269531 -1.160156 -0.282715   \n",
       "1-base  2.076172  1.060547 -0.65332 -1.000977 -1.157227 -0.501465  1.130859   \n",
       "\n",
       "               7         8         9  ...        62        63        64  \\\n",
       "Id                                    ...                                 \n",
       "0-base  0.373535 -0.432129  0.885254  ...  1.189453  0.190918  0.073914   \n",
       "1-base -0.871582 -0.628906  1.098633  ... -1.271484  0.270020 -0.074646   \n",
       "\n",
       "              65        66        67        68        69        70        71  \n",
       "Id                                                                            \n",
       "0-base -0.894531 -2.269531 -0.510254  0.293213 -0.014954  1.782227 -0.312744  \n",
       "1-base -1.096680  0.217041  0.014435  1.712891  0.058838  1.854492 -0.281250  \n",
       "\n",
       "[2 rows x 72 columns]"
      ]
     },
     "execution_count": 7,
     "metadata": {},
     "output_type": "execute_result"
    }
   ],
   "source": [
    "scaler = StandardScaler()\n",
    "base[:]=scaler.fit_transform(base[:]) \n",
    "base.head(2)"
   ]
  },
  {
   "cell_type": "code",
   "execution_count": 8,
   "id": "66e67a83",
   "metadata": {},
   "outputs": [
    {
     "data": {
      "text/html": [
       "<div>\n",
       "<style scoped>\n",
       "    .dataframe tbody tr th:only-of-type {\n",
       "        vertical-align: middle;\n",
       "    }\n",
       "\n",
       "    .dataframe tbody tr th {\n",
       "        vertical-align: top;\n",
       "    }\n",
       "\n",
       "    .dataframe thead th {\n",
       "        text-align: right;\n",
       "    }\n",
       "</style>\n",
       "<table border=\"1\" class=\"dataframe\">\n",
       "  <thead>\n",
       "    <tr style=\"text-align: right;\">\n",
       "      <th></th>\n",
       "      <th>0</th>\n",
       "      <th>1</th>\n",
       "      <th>2</th>\n",
       "      <th>3</th>\n",
       "      <th>4</th>\n",
       "      <th>5</th>\n",
       "      <th>6</th>\n",
       "      <th>7</th>\n",
       "      <th>8</th>\n",
       "      <th>9</th>\n",
       "      <th>...</th>\n",
       "      <th>62</th>\n",
       "      <th>63</th>\n",
       "      <th>64</th>\n",
       "      <th>65</th>\n",
       "      <th>66</th>\n",
       "      <th>67</th>\n",
       "      <th>68</th>\n",
       "      <th>69</th>\n",
       "      <th>70</th>\n",
       "      <th>71</th>\n",
       "    </tr>\n",
       "    <tr>\n",
       "      <th>Id</th>\n",
       "      <th></th>\n",
       "      <th></th>\n",
       "      <th></th>\n",
       "      <th></th>\n",
       "      <th></th>\n",
       "      <th></th>\n",
       "      <th></th>\n",
       "      <th></th>\n",
       "      <th></th>\n",
       "      <th></th>\n",
       "      <th></th>\n",
       "      <th></th>\n",
       "      <th></th>\n",
       "      <th></th>\n",
       "      <th></th>\n",
       "      <th></th>\n",
       "      <th></th>\n",
       "      <th></th>\n",
       "      <th></th>\n",
       "      <th></th>\n",
       "      <th></th>\n",
       "    </tr>\n",
       "  </thead>\n",
       "  <tbody>\n",
       "    <tr>\n",
       "      <th>0-query</th>\n",
       "      <td>1.299521</td>\n",
       "      <td>1.996883</td>\n",
       "      <td>0.063773</td>\n",
       "      <td>-1.879674</td>\n",
       "      <td>1.644099</td>\n",
       "      <td>-0.537624</td>\n",
       "      <td>0.165088</td>\n",
       "      <td>0.279598</td>\n",
       "      <td>-2.296794</td>\n",
       "      <td>-1.459627</td>\n",
       "      <td>...</td>\n",
       "      <td>-0.866976</td>\n",
       "      <td>1.274320</td>\n",
       "      <td>-0.024409</td>\n",
       "      <td>-1.173479</td>\n",
       "      <td>-1.035366</td>\n",
       "      <td>0.197183</td>\n",
       "      <td>-0.200787</td>\n",
       "      <td>0.906574</td>\n",
       "      <td>0.995119</td>\n",
       "      <td>0.522965</td>\n",
       "    </tr>\n",
       "    <tr>\n",
       "      <th>1-query</th>\n",
       "      <td>-0.062145</td>\n",
       "      <td>-0.257161</td>\n",
       "      <td>0.324248</td>\n",
       "      <td>-1.543249</td>\n",
       "      <td>0.204684</td>\n",
       "      <td>-0.419327</td>\n",
       "      <td>1.095707</td>\n",
       "      <td>-1.538328</td>\n",
       "      <td>0.193790</td>\n",
       "      <td>0.246358</td>\n",
       "      <td>...</td>\n",
       "      <td>1.254598</td>\n",
       "      <td>-0.991074</td>\n",
       "      <td>0.075152</td>\n",
       "      <td>-0.159575</td>\n",
       "      <td>0.207978</td>\n",
       "      <td>0.028030</td>\n",
       "      <td>0.244772</td>\n",
       "      <td>0.709458</td>\n",
       "      <td>-0.612417</td>\n",
       "      <td>-0.083489</td>\n",
       "    </tr>\n",
       "  </tbody>\n",
       "</table>\n",
       "<p>2 rows × 72 columns</p>\n",
       "</div>"
      ],
      "text/plain": [
       "                0         1         2         3         4         5         6  \\\n",
       "Id                                                                              \n",
       "0-query  1.299521  1.996883  0.063773 -1.879674  1.644099 -0.537624  0.165088   \n",
       "1-query -0.062145 -0.257161  0.324248 -1.543249  0.204684 -0.419327  1.095707   \n",
       "\n",
       "                7         8         9  ...        62        63        64  \\\n",
       "Id                                     ...                                 \n",
       "0-query  0.279598 -2.296794 -1.459627  ... -0.866976  1.274320 -0.024409   \n",
       "1-query -1.538328  0.193790  0.246358  ...  1.254598 -0.991074  0.075152   \n",
       "\n",
       "               65        66        67        68        69        70        71  \n",
       "Id                                                                             \n",
       "0-query -1.173479 -1.035366  0.197183 -0.200787  0.906574  0.995119  0.522965  \n",
       "1-query -0.159575  0.207978  0.028030  0.244772  0.709458 -0.612417 -0.083489  \n",
       "\n",
       "[2 rows x 72 columns]"
      ]
     },
     "execution_count": 8,
     "metadata": {},
     "output_type": "execute_result"
    }
   ],
   "source": [
    "features[:]=scaler.transform(features[:])\n",
    "features.head(2)"
   ]
  },
  {
   "cell_type": "markdown",
   "id": "a3b6cc0d",
   "metadata": {},
   "source": [
    "## Двухэтапная модель FAISS+CatBoost\n",
    "Отберем кандидатов с помощью FAISS, затем ранжируем их помощью CatBoostClassifier и оставим топ-5 для расчета метрик.\n",
    "\n",
    "**Гипотеза 1:** Двухэтапная модель FAISS+CatBoost (от 100 кандидатов на 1м этапе) даст не менее 75% точности"
   ]
  },
  {
   "cell_type": "markdown",
   "id": "360a596b",
   "metadata": {},
   "source": [
    "### Создание индексов"
   ]
  },
  {
   "cell_type": "code",
   "execution_count": 9,
   "id": "15dd70c5",
   "metadata": {
    "scrolled": true
   },
   "outputs": [
    {
     "name": "stdout",
     "output_type": "stream",
     "text": [
      "CPU times: total: 21min 27s\n",
      "Wall time: 2min 46s\n"
     ]
    }
   ],
   "source": [
    "%%time \n",
    "dims = base.shape[1]   # размерность вектора признаков\n",
    "n_cells =   512        # кол-во центроидов/кластеров для группировки                \n",
    "quantizer = faiss.IndexFlatL2(dims)\n",
    "idx_l2 = faiss.IndexIVFFlat(quantizer, dims, n_cells)\n",
    "\n",
    "idx_l2.train(np.ascontiguousarray(base.values[:100000, :]).astype('float16')) \n",
    "idx_l2.add(np.ascontiguousarray(base.values).astype('float16'))"
   ]
  },
  {
   "cell_type": "markdown",
   "id": "b44fafa7",
   "metadata": {},
   "source": [
    "### Отбор кандидатов FAISS "
   ]
  },
  {
   "cell_type": "code",
   "execution_count": 10,
   "id": "6c1ec013",
   "metadata": {
    "scrolled": false
   },
   "outputs": [
    {
     "name": "stdout",
     "output_type": "stream",
     "text": [
      "CPU times: total: 4h 34min 11s\n",
      "Wall time: 24min 42s\n"
     ]
    }
   ],
   "source": [
    "%%time \n",
    "idx_l2.nprobe=256  # Проходим по топ-nprobe центроид для поиска top-k ближайших соседей\n",
    "k=100 #сколько ближайших соседей искать для каждого товара\n",
    "vecs, idx = idx_l2.search(np.ascontiguousarray(features.values).astype('float16'), k)  "
   ]
  },
  {
   "cell_type": "code",
   "execution_count": 11,
   "id": "44024457",
   "metadata": {
    "scrolled": false
   },
   "outputs": [],
   "source": [
    "base_index = {k: v for k, v in enumerate(base.index.to_list())}"
   ]
  },
  {
   "cell_type": "code",
   "execution_count": 12,
   "id": "54628703",
   "metadata": {
    "scrolled": false
   },
   "outputs": [
    {
     "name": "stderr",
     "output_type": "stream",
     "text": [
      "100000it [00:03, 28437.81it/s]\n"
     ]
    },
    {
     "name": "stdout",
     "output_type": "stream",
     "text": [
      "79.034\n"
     ]
    }
   ],
   "source": [
    "acc = 0\n",
    "for target, el in tqdm(zip(targets.values.tolist(), idx.tolist())):\n",
    "    acc += int(target in [base_index[r] for r in el])\n",
    "\n",
    "print(100 * acc / len(idx))"
   ]
  },
  {
   "cell_type": "markdown",
   "id": "0eacd36e",
   "metadata": {},
   "source": [
    "#### Объединим кандидатов в DataFrame"
   ]
  },
  {
   "cell_type": "code",
   "execution_count": 14,
   "id": "bd7fceae",
   "metadata": {},
   "outputs": [],
   "source": [
    "def con_candidate(i,l,lnew,validation):\n",
    "    for j in range(len(l)):\n",
    "        lnew.append([validation.index[i],base_index[l[j]] ,j ])\n",
    "    return lnew"
   ]
  },
  {
   "cell_type": "code",
   "execution_count": 15,
   "id": "9060d406",
   "metadata": {},
   "outputs": [
    {
     "name": "stderr",
     "output_type": "stream",
     "text": [
      "100%|██████████| 100000/100000 [00:11<00:00, 8596.15it/s]\n"
     ]
    },
    {
     "data": {
      "text/plain": [
       "(10000000, 3)"
      ]
     },
     "metadata": {},
     "output_type": "display_data"
    },
    {
     "data": {
      "text/html": [
       "<div>\n",
       "<style scoped>\n",
       "    .dataframe tbody tr th:only-of-type {\n",
       "        vertical-align: middle;\n",
       "    }\n",
       "\n",
       "    .dataframe tbody tr th {\n",
       "        vertical-align: top;\n",
       "    }\n",
       "\n",
       "    .dataframe thead th {\n",
       "        text-align: right;\n",
       "    }\n",
       "</style>\n",
       "<table border=\"1\" class=\"dataframe\">\n",
       "  <thead>\n",
       "    <tr style=\"text-align: right;\">\n",
       "      <th></th>\n",
       "      <th>id_name</th>\n",
       "      <th>id_cand_name</th>\n",
       "      <th>rank</th>\n",
       "    </tr>\n",
       "  </thead>\n",
       "  <tbody>\n",
       "    <tr>\n",
       "      <th>0</th>\n",
       "      <td>0-query</td>\n",
       "      <td>675816-base</td>\n",
       "      <td>0</td>\n",
       "    </tr>\n",
       "    <tr>\n",
       "      <th>1</th>\n",
       "      <td>0-query</td>\n",
       "      <td>877519-base</td>\n",
       "      <td>1</td>\n",
       "    </tr>\n",
       "    <tr>\n",
       "      <th>2</th>\n",
       "      <td>0-query</td>\n",
       "      <td>361564-base</td>\n",
       "      <td>2</td>\n",
       "    </tr>\n",
       "    <tr>\n",
       "      <th>3</th>\n",
       "      <td>0-query</td>\n",
       "      <td>2725256-base</td>\n",
       "      <td>3</td>\n",
       "    </tr>\n",
       "  </tbody>\n",
       "</table>\n",
       "</div>"
      ],
      "text/plain": [
       "   id_name  id_cand_name  rank\n",
       "0  0-query   675816-base     0\n",
       "1  0-query   877519-base     1\n",
       "2  0-query   361564-base     2\n",
       "3  0-query  2725256-base     3"
      ]
     },
     "execution_count": 15,
     "metadata": {},
     "output_type": "execute_result"
    }
   ],
   "source": [
    "lnew=[]\n",
    "for i in tqdm(range(len(idx))):    \n",
    "    lnew=con_candidate(i,idx[i],lnew,train)\n",
    "\n",
    "df_t_new=pd.DataFrame(data=lnew,columns=['id_name','id_cand_name','rank'])\n",
    "display(df_t_new.shape)\n",
    "df_t_new.head(4)"
   ]
  },
  {
   "cell_type": "code",
   "execution_count": 16,
   "id": "3a99b362",
   "metadata": {},
   "outputs": [],
   "source": [
    "del lnew"
   ]
  },
  {
   "cell_type": "markdown",
   "id": "0a9cfda3",
   "metadata": {},
   "source": [
    "#### Добавим признаки\n",
    "\n",
    "Добавим целевой признак.\n",
    "Заполним колонку **\"ground truth\"**, где будет 1 - если товар-кандидат совпал с товаром, отмеченным экспертом, и 0 - в противном случае\n",
    "Эта колонка будет целевым признаком при обучении катбуста"
   ]
  },
  {
   "cell_type": "code",
   "execution_count": 17,
   "id": "0f5421f1",
   "metadata": {},
   "outputs": [
    {
     "name": "stdout",
     "output_type": "stream",
     "text": [
      "CPU times: total: 7.86 s\n",
      "Wall time: 7.86 s\n"
     ]
    },
    {
     "data": {
      "text/html": [
       "<div>\n",
       "<style scoped>\n",
       "    .dataframe tbody tr th:only-of-type {\n",
       "        vertical-align: middle;\n",
       "    }\n",
       "\n",
       "    .dataframe tbody tr th {\n",
       "        vertical-align: top;\n",
       "    }\n",
       "\n",
       "    .dataframe thead th {\n",
       "        text-align: right;\n",
       "    }\n",
       "</style>\n",
       "<table border=\"1\" class=\"dataframe\">\n",
       "  <thead>\n",
       "    <tr style=\"text-align: right;\">\n",
       "      <th></th>\n",
       "      <th>id_name</th>\n",
       "      <th>id_cand_name</th>\n",
       "      <th>rank</th>\n",
       "      <th>ground truth</th>\n",
       "    </tr>\n",
       "  </thead>\n",
       "  <tbody>\n",
       "    <tr>\n",
       "      <th>0</th>\n",
       "      <td>0-query</td>\n",
       "      <td>675816-base</td>\n",
       "      <td>0</td>\n",
       "      <td>1</td>\n",
       "    </tr>\n",
       "    <tr>\n",
       "      <th>1</th>\n",
       "      <td>0-query</td>\n",
       "      <td>877519-base</td>\n",
       "      <td>1</td>\n",
       "      <td>0</td>\n",
       "    </tr>\n",
       "  </tbody>\n",
       "</table>\n",
       "</div>"
      ],
      "text/plain": [
       "   id_name id_cand_name  rank  ground truth\n",
       "0  0-query  675816-base     0             1\n",
       "1  0-query  877519-base     1             0"
      ]
     },
     "execution_count": 17,
     "metadata": {},
     "output_type": "execute_result"
    }
   ],
   "source": [
    "%%time\n",
    "#присоединим 'Target':  \n",
    "df=pd.merge(df_t_new, train[['Target']], how='left', left_on='id_name', right_on=train.index).copy() \n",
    "\n",
    "df['ground truth']=(df[\"id_cand_name\"]==df[\"Target\"])\n",
    "df['ground truth']=df['ground truth'].apply(lambda x: int(x))   \n",
    "df=df.drop(['Target'],axis=1)\n",
    "df.head(2)"
   ]
  },
  {
   "cell_type": "markdown",
   "id": "53165e73",
   "metadata": {},
   "source": [
    " Добавим признаки товарам"
   ]
  },
  {
   "cell_type": "code",
   "execution_count": 18,
   "id": "ddd6ef38",
   "metadata": {},
   "outputs": [
    {
     "data": {
      "text/html": [
       "<div>\n",
       "<style scoped>\n",
       "    .dataframe tbody tr th:only-of-type {\n",
       "        vertical-align: middle;\n",
       "    }\n",
       "\n",
       "    .dataframe tbody tr th {\n",
       "        vertical-align: top;\n",
       "    }\n",
       "\n",
       "    .dataframe thead th {\n",
       "        text-align: right;\n",
       "    }\n",
       "</style>\n",
       "<table border=\"1\" class=\"dataframe\">\n",
       "  <thead>\n",
       "    <tr style=\"text-align: right;\">\n",
       "      <th></th>\n",
       "      <th>id_name</th>\n",
       "      <th>id_cand_name</th>\n",
       "      <th>rank</th>\n",
       "      <th>ground truth</th>\n",
       "      <th>0</th>\n",
       "      <th>1</th>\n",
       "      <th>2</th>\n",
       "      <th>3</th>\n",
       "      <th>4</th>\n",
       "      <th>5</th>\n",
       "      <th>...</th>\n",
       "      <th>62_cand</th>\n",
       "      <th>63_cand</th>\n",
       "      <th>64_cand</th>\n",
       "      <th>65_cand</th>\n",
       "      <th>66_cand</th>\n",
       "      <th>67_cand</th>\n",
       "      <th>68_cand</th>\n",
       "      <th>69_cand</th>\n",
       "      <th>70_cand</th>\n",
       "      <th>71_cand</th>\n",
       "    </tr>\n",
       "  </thead>\n",
       "  <tbody>\n",
       "    <tr>\n",
       "      <th>0</th>\n",
       "      <td>0-query</td>\n",
       "      <td>675816-base</td>\n",
       "      <td>0</td>\n",
       "      <td>1</td>\n",
       "      <td>1.299521</td>\n",
       "      <td>1.996883</td>\n",
       "      <td>0.063773</td>\n",
       "      <td>-1.879674</td>\n",
       "      <td>1.644099</td>\n",
       "      <td>-0.537624</td>\n",
       "      <td>...</td>\n",
       "      <td>-0.927246</td>\n",
       "      <td>1.626953</td>\n",
       "      <td>0.073914</td>\n",
       "      <td>0.427246</td>\n",
       "      <td>-0.502441</td>\n",
       "      <td>0.395020</td>\n",
       "      <td>-0.568359</td>\n",
       "      <td>0.067688</td>\n",
       "      <td>0.995605</td>\n",
       "      <td>0.708984</td>\n",
       "    </tr>\n",
       "    <tr>\n",
       "      <th>1</th>\n",
       "      <td>0-query</td>\n",
       "      <td>877519-base</td>\n",
       "      <td>1</td>\n",
       "      <td>0</td>\n",
       "      <td>1.299521</td>\n",
       "      <td>1.996883</td>\n",
       "      <td>0.063773</td>\n",
       "      <td>-1.879674</td>\n",
       "      <td>1.644099</td>\n",
       "      <td>-0.537624</td>\n",
       "      <td>...</td>\n",
       "      <td>-0.676758</td>\n",
       "      <td>1.614258</td>\n",
       "      <td>-0.247437</td>\n",
       "      <td>-0.404297</td>\n",
       "      <td>-1.153320</td>\n",
       "      <td>0.412598</td>\n",
       "      <td>-0.375732</td>\n",
       "      <td>0.728516</td>\n",
       "      <td>0.543945</td>\n",
       "      <td>0.270508</td>\n",
       "    </tr>\n",
       "  </tbody>\n",
       "</table>\n",
       "<p>2 rows × 148 columns</p>\n",
       "</div>"
      ],
      "text/plain": [
       "   id_name id_cand_name  rank  ground truth         0         1         2  \\\n",
       "0  0-query  675816-base     0             1  1.299521  1.996883  0.063773   \n",
       "1  0-query  877519-base     1             0  1.299521  1.996883  0.063773   \n",
       "\n",
       "          3         4         5  ...   62_cand   63_cand   64_cand   65_cand  \\\n",
       "0 -1.879674  1.644099 -0.537624  ... -0.927246  1.626953  0.073914  0.427246   \n",
       "1 -1.879674  1.644099 -0.537624  ... -0.676758  1.614258 -0.247437 -0.404297   \n",
       "\n",
       "    66_cand   67_cand   68_cand   69_cand   70_cand   71_cand  \n",
       "0 -0.502441  0.395020 -0.568359  0.067688  0.995605  0.708984  \n",
       "1 -1.153320  0.412598 -0.375732  0.728516  0.543945  0.270508  \n",
       "\n",
       "[2 rows x 148 columns]"
      ]
     },
     "execution_count": 18,
     "metadata": {},
     "output_type": "execute_result"
    }
   ],
   "source": [
    "#присоединим хар-ки основного товара:\n",
    "df=pd.merge(df, features, how='left', left_on='id_name', right_on=features.index)  \n",
    "\n",
    "#присоединим хар-ки кандидатов\n",
    "df=pd.merge(df, base.add_suffix('_cand'), how='left', left_on='id_cand_name', right_on=base.index)\n",
    "df.head(2)"
   ]
  },
  {
   "cell_type": "markdown",
   "id": "24bbf470",
   "metadata": {},
   "source": [
    "### Формирование датасетов для обучения катбуста"
   ]
  },
  {
   "cell_type": "markdown",
   "id": "3b74017a",
   "metadata": {},
   "source": [
    "#### Добавим новые признаки\n",
    "Как разности между важными признаками (важность определили в прошлой версии ноутбука с помощью .get_feature_importance() модели катбуста )"
   ]
  },
  {
   "cell_type": "code",
   "execution_count": 19,
   "id": "7e960478",
   "metadata": {},
   "outputs": [],
   "source": [
    "df['abs70']=abs(df['70']-df['70_cand'])\n",
    "df['abs33']=abs(df['33']-df['33_cand'])\n",
    "df['abs6']=abs(df['6']-df['6_cand'])\n",
    "df['abs44']=abs(df['44']-df['44_cand'])\n",
    "df['abs21']=abs(df['21']-df['21_cand'])"
   ]
  },
  {
   "cell_type": "code",
   "execution_count": 20,
   "id": "0c1be5af",
   "metadata": {},
   "outputs": [
    {
     "data": {
      "text/plain": [
       "(10000000, 153)"
      ]
     },
     "metadata": {},
     "output_type": "display_data"
    },
    {
     "data": {
      "text/html": [
       "<div>\n",
       "<style scoped>\n",
       "    .dataframe tbody tr th:only-of-type {\n",
       "        vertical-align: middle;\n",
       "    }\n",
       "\n",
       "    .dataframe tbody tr th {\n",
       "        vertical-align: top;\n",
       "    }\n",
       "\n",
       "    .dataframe thead th {\n",
       "        text-align: right;\n",
       "    }\n",
       "</style>\n",
       "<table border=\"1\" class=\"dataframe\">\n",
       "  <thead>\n",
       "    <tr style=\"text-align: right;\">\n",
       "      <th></th>\n",
       "      <th>id_name</th>\n",
       "      <th>id_cand_name</th>\n",
       "      <th>rank</th>\n",
       "      <th>ground truth</th>\n",
       "      <th>0</th>\n",
       "      <th>1</th>\n",
       "      <th>2</th>\n",
       "      <th>3</th>\n",
       "      <th>4</th>\n",
       "      <th>5</th>\n",
       "      <th>...</th>\n",
       "      <th>67_cand</th>\n",
       "      <th>68_cand</th>\n",
       "      <th>69_cand</th>\n",
       "      <th>70_cand</th>\n",
       "      <th>71_cand</th>\n",
       "      <th>abs70</th>\n",
       "      <th>abs33</th>\n",
       "      <th>abs6</th>\n",
       "      <th>abs44</th>\n",
       "      <th>abs21</th>\n",
       "    </tr>\n",
       "  </thead>\n",
       "  <tbody>\n",
       "    <tr>\n",
       "      <th>0</th>\n",
       "      <td>0-query</td>\n",
       "      <td>675816-base</td>\n",
       "      <td>0</td>\n",
       "      <td>1</td>\n",
       "      <td>1.299521</td>\n",
       "      <td>1.996883</td>\n",
       "      <td>0.063773</td>\n",
       "      <td>-1.879674</td>\n",
       "      <td>1.644099</td>\n",
       "      <td>-0.537624</td>\n",
       "      <td>...</td>\n",
       "      <td>0.39502</td>\n",
       "      <td>-0.568359</td>\n",
       "      <td>0.067688</td>\n",
       "      <td>0.995605</td>\n",
       "      <td>0.708984</td>\n",
       "      <td>0.000486</td>\n",
       "      <td>0.567362</td>\n",
       "      <td>0.000439</td>\n",
       "      <td>0.180287</td>\n",
       "      <td>1.521696</td>\n",
       "    </tr>\n",
       "  </tbody>\n",
       "</table>\n",
       "<p>1 rows × 153 columns</p>\n",
       "</div>"
      ],
      "text/plain": [
       "   id_name id_cand_name  rank  ground truth         0         1         2  \\\n",
       "0  0-query  675816-base     0             1  1.299521  1.996883  0.063773   \n",
       "\n",
       "          3         4         5  ...  67_cand   68_cand   69_cand   70_cand  \\\n",
       "0 -1.879674  1.644099 -0.537624  ...  0.39502 -0.568359  0.067688  0.995605   \n",
       "\n",
       "    71_cand     abs70     abs33      abs6     abs44     abs21  \n",
       "0  0.708984  0.000486  0.567362  0.000439  0.180287  1.521696  \n",
       "\n",
       "[1 rows x 153 columns]"
      ]
     },
     "execution_count": 20,
     "metadata": {},
     "output_type": "execute_result"
    }
   ],
   "source": [
    "df_mini=df.loc[:,'id_name':].copy()\n",
    "display(df_mini.shape)\n",
    "df_mini.head(1)"
   ]
  },
  {
   "cell_type": "code",
   "execution_count": 21,
   "id": "7cae8b6c",
   "metadata": {},
   "outputs": [
    {
     "data": {
      "text/plain": [
       "150"
      ]
     },
     "execution_count": 21,
     "metadata": {},
     "output_type": "execute_result"
    }
   ],
   "source": [
    "feat_col=df_mini.columns.to_list()  #список колонок с признаками, для катбуста\n",
    "feat_col=feat_col[2:]\n",
    "feat_col.remove('ground truth')\n",
    "len(feat_col)"
   ]
  },
  {
   "cell_type": "code",
   "execution_count": 22,
   "id": "0a7e6b0e",
   "metadata": {},
   "outputs": [
    {
     "name": "stdout",
     "output_type": "stream",
     "text": [
      "(9000000, 153) ; (1000000, 153)\n"
     ]
    }
   ],
   "source": [
    "features_train_m=df_mini[:9000000].copy()\n",
    "features_test_m=df_mini[9000000:10000000].copy()\n",
    "print(features_train_m.shape, ';', features_test_m.shape)"
   ]
  },
  {
   "cell_type": "code",
   "execution_count": 23,
   "id": "35452918",
   "metadata": {
    "scrolled": true
   },
   "outputs": [
    {
     "data": {
      "text/html": [
       "<div>\n",
       "<style scoped>\n",
       "    .dataframe tbody tr th:only-of-type {\n",
       "        vertical-align: middle;\n",
       "    }\n",
       "\n",
       "    .dataframe tbody tr th {\n",
       "        vertical-align: top;\n",
       "    }\n",
       "\n",
       "    .dataframe thead th {\n",
       "        text-align: right;\n",
       "    }\n",
       "</style>\n",
       "<table border=\"1\" class=\"dataframe\">\n",
       "  <thead>\n",
       "    <tr style=\"text-align: right;\">\n",
       "      <th></th>\n",
       "      <th>rank</th>\n",
       "      <th>0</th>\n",
       "      <th>1</th>\n",
       "      <th>2</th>\n",
       "      <th>3</th>\n",
       "      <th>4</th>\n",
       "      <th>5</th>\n",
       "      <th>6</th>\n",
       "      <th>7</th>\n",
       "      <th>8</th>\n",
       "      <th>...</th>\n",
       "      <th>67_cand</th>\n",
       "      <th>68_cand</th>\n",
       "      <th>69_cand</th>\n",
       "      <th>70_cand</th>\n",
       "      <th>71_cand</th>\n",
       "      <th>abs70</th>\n",
       "      <th>abs33</th>\n",
       "      <th>abs6</th>\n",
       "      <th>abs44</th>\n",
       "      <th>abs21</th>\n",
       "    </tr>\n",
       "  </thead>\n",
       "  <tbody>\n",
       "    <tr>\n",
       "      <th>0</th>\n",
       "      <td>0</td>\n",
       "      <td>1.299521</td>\n",
       "      <td>1.996883</td>\n",
       "      <td>0.063773</td>\n",
       "      <td>-1.879674</td>\n",
       "      <td>1.644099</td>\n",
       "      <td>-0.537624</td>\n",
       "      <td>0.165088</td>\n",
       "      <td>0.279598</td>\n",
       "      <td>-2.296794</td>\n",
       "      <td>...</td>\n",
       "      <td>0.395020</td>\n",
       "      <td>-0.568359</td>\n",
       "      <td>0.067688</td>\n",
       "      <td>0.995605</td>\n",
       "      <td>0.708984</td>\n",
       "      <td>0.000486</td>\n",
       "      <td>0.567362</td>\n",
       "      <td>0.000439</td>\n",
       "      <td>0.180287</td>\n",
       "      <td>1.521696</td>\n",
       "    </tr>\n",
       "    <tr>\n",
       "      <th>1</th>\n",
       "      <td>1</td>\n",
       "      <td>1.299521</td>\n",
       "      <td>1.996883</td>\n",
       "      <td>0.063773</td>\n",
       "      <td>-1.879674</td>\n",
       "      <td>1.644099</td>\n",
       "      <td>-0.537624</td>\n",
       "      <td>0.165088</td>\n",
       "      <td>0.279598</td>\n",
       "      <td>-2.296794</td>\n",
       "      <td>...</td>\n",
       "      <td>0.412598</td>\n",
       "      <td>-0.375732</td>\n",
       "      <td>0.728516</td>\n",
       "      <td>0.543945</td>\n",
       "      <td>0.270508</td>\n",
       "      <td>0.451174</td>\n",
       "      <td>0.000509</td>\n",
       "      <td>0.837940</td>\n",
       "      <td>0.000377</td>\n",
       "      <td>0.915804</td>\n",
       "    </tr>\n",
       "    <tr>\n",
       "      <th>2</th>\n",
       "      <td>2</td>\n",
       "      <td>1.299521</td>\n",
       "      <td>1.996883</td>\n",
       "      <td>0.063773</td>\n",
       "      <td>-1.879674</td>\n",
       "      <td>1.644099</td>\n",
       "      <td>-0.537624</td>\n",
       "      <td>0.165088</td>\n",
       "      <td>0.279598</td>\n",
       "      <td>-2.296794</td>\n",
       "      <td>...</td>\n",
       "      <td>0.281006</td>\n",
       "      <td>-0.491943</td>\n",
       "      <td>0.530762</td>\n",
       "      <td>0.542969</td>\n",
       "      <td>0.090088</td>\n",
       "      <td>0.452150</td>\n",
       "      <td>0.424337</td>\n",
       "      <td>1.516651</td>\n",
       "      <td>0.180287</td>\n",
       "      <td>1.521696</td>\n",
       "    </tr>\n",
       "    <tr>\n",
       "      <th>3</th>\n",
       "      <td>3</td>\n",
       "      <td>1.299521</td>\n",
       "      <td>1.996883</td>\n",
       "      <td>0.063773</td>\n",
       "      <td>-1.879674</td>\n",
       "      <td>1.644099</td>\n",
       "      <td>-0.537624</td>\n",
       "      <td>0.165088</td>\n",
       "      <td>0.279598</td>\n",
       "      <td>-2.296794</td>\n",
       "      <td>...</td>\n",
       "      <td>0.156128</td>\n",
       "      <td>-1.269531</td>\n",
       "      <td>0.008652</td>\n",
       "      <td>1.964844</td>\n",
       "      <td>0.834473</td>\n",
       "      <td>0.969725</td>\n",
       "      <td>0.163065</td>\n",
       "      <td>0.057605</td>\n",
       "      <td>0.180287</td>\n",
       "      <td>0.226351</td>\n",
       "    </tr>\n",
       "  </tbody>\n",
       "</table>\n",
       "<p>4 rows × 150 columns</p>\n",
       "</div>"
      ],
      "text/plain": [
       "   rank         0         1         2         3         4         5         6  \\\n",
       "0     0  1.299521  1.996883  0.063773 -1.879674  1.644099 -0.537624  0.165088   \n",
       "1     1  1.299521  1.996883  0.063773 -1.879674  1.644099 -0.537624  0.165088   \n",
       "2     2  1.299521  1.996883  0.063773 -1.879674  1.644099 -0.537624  0.165088   \n",
       "3     3  1.299521  1.996883  0.063773 -1.879674  1.644099 -0.537624  0.165088   \n",
       "\n",
       "          7         8  ...   67_cand   68_cand   69_cand   70_cand   71_cand  \\\n",
       "0  0.279598 -2.296794  ...  0.395020 -0.568359  0.067688  0.995605  0.708984   \n",
       "1  0.279598 -2.296794  ...  0.412598 -0.375732  0.728516  0.543945  0.270508   \n",
       "2  0.279598 -2.296794  ...  0.281006 -0.491943  0.530762  0.542969  0.090088   \n",
       "3  0.279598 -2.296794  ...  0.156128 -1.269531  0.008652  1.964844  0.834473   \n",
       "\n",
       "      abs70     abs33      abs6     abs44     abs21  \n",
       "0  0.000486  0.567362  0.000439  0.180287  1.521696  \n",
       "1  0.451174  0.000509  0.837940  0.000377  0.915804  \n",
       "2  0.452150  0.424337  1.516651  0.180287  1.521696  \n",
       "3  0.969725  0.163065  0.057605  0.180287  0.226351  \n",
       "\n",
       "[4 rows x 150 columns]"
      ]
     },
     "execution_count": 23,
     "metadata": {},
     "output_type": "execute_result"
    }
   ],
   "source": [
    "features_train_m[feat_col].head(4)"
   ]
  },
  {
   "cell_type": "markdown",
   "id": "43ac2c3d",
   "metadata": {},
   "source": [
    "### Обучение CatBoostClassifier \n",
    "\n",
    "Используем CatBoostClassifier для ранжирования кандидатов.В качестве ранга возьмем вероятность принадлежности к классу 1, запишем ее в колонку \"cb_proba\".\n",
    "\n",
    "Так как, выборка получилась сильно несбалансированная, при обучении используем аргумент class_weights. Соотношение возьмем пропорционально числу кандидатов, так как верный - максимум один из всех"
   ]
  },
  {
   "cell_type": "code",
   "execution_count": 24,
   "id": "4eaca4ce",
   "metadata": {},
   "outputs": [
    {
     "name": "stdout",
     "output_type": "stream",
     "text": [
      "(9000000, 1) ; (1000000, 153)\n"
     ]
    }
   ],
   "source": [
    "target_mini=df_mini[['ground truth']].copy()\n",
    "target_train_m=target_mini[:9000000].copy()\n",
    "target_test_m=target_mini[9000000:10000000].copy()\n",
    "print(target_train_m.shape, ';', features_test_m.shape)"
   ]
  },
  {
   "cell_type": "code",
   "execution_count": 25,
   "id": "9701ef91",
   "metadata": {
    "scrolled": true
   },
   "outputs": [
    {
     "data": {
      "application/vnd.jupyter.widget-view+json": {
       "model_id": "e0c95f4aabe548579acf8ed5460590a3",
       "version_major": 2,
       "version_minor": 0
      },
      "text/plain": [
       "MetricVisualizer(layout=Layout(align_self='stretch', height='500px'))"
      ]
     },
     "metadata": {},
     "output_type": "display_data"
    },
    {
     "name": "stdout",
     "output_type": "stream",
     "text": [
      "0:\tlearn: 0.4990079\ttest: 0.4990912\tbest: 0.4990912 (0)\ttotal: 1.79s\tremaining: 23m 50s\n",
      "100:\tlearn: 0.0671744\ttest: 0.0699216\tbest: 0.0699216 (100)\ttotal: 2m 43s\tremaining: 18m 50s\n",
      "200:\tlearn: 0.0602967\ttest: 0.0651805\tbest: 0.0651805 (200)\ttotal: 5m 22s\tremaining: 16m 2s\n",
      "300:\tlearn: 0.0555116\ttest: 0.0626929\tbest: 0.0626929 (300)\ttotal: 8m 2s\tremaining: 13m 19s\n",
      "400:\tlearn: 0.0518829\ttest: 0.0612797\tbest: 0.0612739 (399)\ttotal: 10m 29s\tremaining: 10m 26s\n",
      "500:\tlearn: 0.0487634\ttest: 0.0603761\tbest: 0.0603761 (500)\ttotal: 13m 2s\tremaining: 7m 47s\n",
      "600:\tlearn: 0.0460655\ttest: 0.0599478\tbest: 0.0599478 (600)\ttotal: 15m 26s\tremaining: 5m 6s\n",
      "700:\tlearn: 0.0436631\ttest: 0.0594774\tbest: 0.0594678 (698)\ttotal: 17m 50s\tremaining: 2m 31s\n",
      "Stopped by overfitting detector  (25 iterations wait)\n",
      "\n",
      "bestTest = 0.05945994004\n",
      "bestIteration = 717\n",
      "\n",
      "Shrink model to first 718 iterations.\n",
      "CPU times: total: 3h 30min 22s\n",
      "Wall time: 22min 12s\n"
     ]
    },
    {
     "data": {
      "text/plain": [
       "<catboost.core.CatBoostClassifier at 0x252ca94fb50>"
      ]
     },
     "execution_count": 25,
     "metadata": {},
     "output_type": "execute_result"
    }
   ],
   "source": [
    "%%time\n",
    "\n",
    "model = CatBoostClassifier(iterations=800,learning_rate=0.1, class_weights=(1, k-1))  #k - ckolko candidatov learning_rate=0.1,\n",
    "\n",
    "model.fit(features_train_m[feat_col],\n",
    "          target_train_m,\n",
    "          eval_set=(features_test_m[feat_col],target_test_m),\n",
    "          early_stopping_rounds=25,\n",
    "          plot=True,\n",
    "          verbose=100)"
   ]
  },
  {
   "cell_type": "code",
   "execution_count": 26,
   "id": "5e1adfcd",
   "metadata": {},
   "outputs": [],
   "source": [
    "#model.save_model('model_cb_0059.json')\n",
    "#model.save_model('model_cb_0059.bin')"
   ]
  },
  {
   "cell_type": "markdown",
   "id": "504ac40f",
   "metadata": {},
   "source": [
    "### Важность признаков"
   ]
  },
  {
   "cell_type": "code",
   "execution_count": 27,
   "id": "36a6f2d3",
   "metadata": {
    "scrolled": true
   },
   "outputs": [
    {
     "data": {
      "image/png": "[encoded data removed]",
      "text/plain": [
       "<Figure size 1600x600 with 1 Axes>"
      ]
     },
     "metadata": {},
     "output_type": "display_data"
    }
   ],
   "source": [
    "fi = pd.Series(model.get_feature_importance(),feat_col)          \n",
    "fig, ax = plt.subplots(figsize=(16,6))\n",
    "fi.sort_values(ascending=False).head(15).plot.bar(ax=ax,fontsize=14)\n",
    "ax.set_title(\"Важность признаков, ТОП-15\", fontsize=16)\n",
    "ax.set_ylabel('Важность, %', fontsize=16)\n",
    "fig.tight_layout( )"
   ]
  },
  {
   "cell_type": "code",
   "execution_count": 28,
   "id": "7f10b318",
   "metadata": {},
   "outputs": [],
   "source": [
    "#0.05902260421 600 015"
   ]
  },
  {
   "cell_type": "markdown",
   "id": "5176aa6f",
   "metadata": {},
   "source": [
    "### Тест на validation"
   ]
  },
  {
   "cell_type": "code",
   "execution_count": 29,
   "id": "3f64250c",
   "metadata": {
    "scrolled": true
   },
   "outputs": [
    {
     "data": {
      "text/plain": [
       "(100000, 72)"
      ]
     },
     "metadata": {},
     "output_type": "display_data"
    },
    {
     "data": {
      "text/html": [
       "<div>\n",
       "<style scoped>\n",
       "    .dataframe tbody tr th:only-of-type {\n",
       "        vertical-align: middle;\n",
       "    }\n",
       "\n",
       "    .dataframe tbody tr th {\n",
       "        vertical-align: top;\n",
       "    }\n",
       "\n",
       "    .dataframe thead th {\n",
       "        text-align: right;\n",
       "    }\n",
       "</style>\n",
       "<table border=\"1\" class=\"dataframe\">\n",
       "  <thead>\n",
       "    <tr style=\"text-align: right;\">\n",
       "      <th></th>\n",
       "      <th>0</th>\n",
       "      <th>1</th>\n",
       "      <th>2</th>\n",
       "      <th>3</th>\n",
       "      <th>4</th>\n",
       "      <th>5</th>\n",
       "      <th>6</th>\n",
       "      <th>7</th>\n",
       "      <th>8</th>\n",
       "      <th>9</th>\n",
       "      <th>...</th>\n",
       "      <th>62</th>\n",
       "      <th>63</th>\n",
       "      <th>64</th>\n",
       "      <th>65</th>\n",
       "      <th>66</th>\n",
       "      <th>67</th>\n",
       "      <th>68</th>\n",
       "      <th>69</th>\n",
       "      <th>70</th>\n",
       "      <th>71</th>\n",
       "    </tr>\n",
       "    <tr>\n",
       "      <th>Id</th>\n",
       "      <th></th>\n",
       "      <th></th>\n",
       "      <th></th>\n",
       "      <th></th>\n",
       "      <th></th>\n",
       "      <th></th>\n",
       "      <th></th>\n",
       "      <th></th>\n",
       "      <th></th>\n",
       "      <th></th>\n",
       "      <th></th>\n",
       "      <th></th>\n",
       "      <th></th>\n",
       "      <th></th>\n",
       "      <th></th>\n",
       "      <th></th>\n",
       "      <th></th>\n",
       "      <th></th>\n",
       "      <th></th>\n",
       "      <th></th>\n",
       "      <th></th>\n",
       "    </tr>\n",
       "  </thead>\n",
       "  <tbody>\n",
       "    <tr>\n",
       "      <th>100000-query</th>\n",
       "      <td>-57.375</td>\n",
       "      <td>3.597656</td>\n",
       "      <td>-13.210938</td>\n",
       "      <td>-125.9375</td>\n",
       "      <td>110.75</td>\n",
       "      <td>-81.25</td>\n",
       "      <td>-461.0</td>\n",
       "      <td>139.875</td>\n",
       "      <td>112.875</td>\n",
       "      <td>75.1875</td>\n",
       "      <td>...</td>\n",
       "      <td>-75.5</td>\n",
       "      <td>52.84375</td>\n",
       "      <td>-143.5</td>\n",
       "      <td>59.0625</td>\n",
       "      <td>69.3125</td>\n",
       "      <td>61.9375</td>\n",
       "      <td>111.5625</td>\n",
       "      <td>115.125</td>\n",
       "      <td>-1099.0</td>\n",
       "      <td>-117.0625</td>\n",
       "    </tr>\n",
       "  </tbody>\n",
       "</table>\n",
       "<p>1 rows × 72 columns</p>\n",
       "</div>"
      ],
      "text/plain": [
       "                   0         1          2         3       4      5      6  \\\n",
       "Id                                                                          \n",
       "100000-query -57.375  3.597656 -13.210938 -125.9375  110.75 -81.25 -461.0   \n",
       "\n",
       "                    7        8        9  ...    62        63     64       65  \\\n",
       "Id                                       ...                                   \n",
       "100000-query  139.875  112.875  75.1875  ... -75.5  52.84375 -143.5  59.0625   \n",
       "\n",
       "                   66       67        68       69      70        71  \n",
       "Id                                                                   \n",
       "100000-query  69.3125  61.9375  111.5625  115.125 -1099.0 -117.0625  \n",
       "\n",
       "[1 rows x 72 columns]"
      ]
     },
     "execution_count": 29,
     "metadata": {},
     "output_type": "execute_result"
    }
   ],
   "source": [
    "validation = pd.read_csv(path+'validation.csv',index_col=0)\n",
    "validation=validation.astype(np.float16)\n",
    "display(validation.shape)\n",
    "validation.head(1)"
   ]
  },
  {
   "cell_type": "code",
   "execution_count": 30,
   "id": "0987be23",
   "metadata": {
    "scrolled": false
   },
   "outputs": [
    {
     "data": {
      "text/plain": [
       "(100000, 1)"
      ]
     },
     "metadata": {},
     "output_type": "display_data"
    },
    {
     "data": {
      "text/html": [
       "<div>\n",
       "<style scoped>\n",
       "    .dataframe tbody tr th:only-of-type {\n",
       "        vertical-align: middle;\n",
       "    }\n",
       "\n",
       "    .dataframe tbody tr th {\n",
       "        vertical-align: top;\n",
       "    }\n",
       "\n",
       "    .dataframe thead th {\n",
       "        text-align: right;\n",
       "    }\n",
       "</style>\n",
       "<table border=\"1\" class=\"dataframe\">\n",
       "  <thead>\n",
       "    <tr style=\"text-align: right;\">\n",
       "      <th></th>\n",
       "      <th>Expected</th>\n",
       "    </tr>\n",
       "    <tr>\n",
       "      <th>Id</th>\n",
       "      <th></th>\n",
       "    </tr>\n",
       "  </thead>\n",
       "  <tbody>\n",
       "    <tr>\n",
       "      <th>100000-query</th>\n",
       "      <td>2676668-base</td>\n",
       "    </tr>\n",
       "  </tbody>\n",
       "</table>\n",
       "</div>"
      ],
      "text/plain": [
       "                  Expected\n",
       "Id                        \n",
       "100000-query  2676668-base"
      ]
     },
     "execution_count": 30,
     "metadata": {},
     "output_type": "execute_result"
    }
   ],
   "source": [
    "validation_answer = pd.read_csv(path+'validation_answer.csv',index_col=0)\n",
    "display(validation_answer.shape)\n",
    "validation_answer.head(1)"
   ]
  },
  {
   "cell_type": "code",
   "execution_count": 31,
   "id": "3ced7094",
   "metadata": {
    "scrolled": false
   },
   "outputs": [
    {
     "data": {
      "text/html": [
       "<div>\n",
       "<style scoped>\n",
       "    .dataframe tbody tr th:only-of-type {\n",
       "        vertical-align: middle;\n",
       "    }\n",
       "\n",
       "    .dataframe tbody tr th {\n",
       "        vertical-align: top;\n",
       "    }\n",
       "\n",
       "    .dataframe thead th {\n",
       "        text-align: right;\n",
       "    }\n",
       "</style>\n",
       "<table border=\"1\" class=\"dataframe\">\n",
       "  <thead>\n",
       "    <tr style=\"text-align: right;\">\n",
       "      <th></th>\n",
       "      <th>0</th>\n",
       "      <th>1</th>\n",
       "      <th>2</th>\n",
       "      <th>3</th>\n",
       "      <th>4</th>\n",
       "      <th>5</th>\n",
       "      <th>6</th>\n",
       "      <th>7</th>\n",
       "      <th>8</th>\n",
       "      <th>9</th>\n",
       "      <th>...</th>\n",
       "      <th>62</th>\n",
       "      <th>63</th>\n",
       "      <th>64</th>\n",
       "      <th>65</th>\n",
       "      <th>66</th>\n",
       "      <th>67</th>\n",
       "      <th>68</th>\n",
       "      <th>69</th>\n",
       "      <th>70</th>\n",
       "      <th>71</th>\n",
       "    </tr>\n",
       "    <tr>\n",
       "      <th>Id</th>\n",
       "      <th></th>\n",
       "      <th></th>\n",
       "      <th></th>\n",
       "      <th></th>\n",
       "      <th></th>\n",
       "      <th></th>\n",
       "      <th></th>\n",
       "      <th></th>\n",
       "      <th></th>\n",
       "      <th></th>\n",
       "      <th></th>\n",
       "      <th></th>\n",
       "      <th></th>\n",
       "      <th></th>\n",
       "      <th></th>\n",
       "      <th></th>\n",
       "      <th></th>\n",
       "      <th></th>\n",
       "      <th></th>\n",
       "      <th></th>\n",
       "      <th></th>\n",
       "    </tr>\n",
       "  </thead>\n",
       "  <tbody>\n",
       "    <tr>\n",
       "      <th>100000-query</th>\n",
       "      <td>1.15918</td>\n",
       "      <td>-0.905273</td>\n",
       "      <td>0.812012</td>\n",
       "      <td>1.042969</td>\n",
       "      <td>-0.012222</td>\n",
       "      <td>-0.328369</td>\n",
       "      <td>-0.253418</td>\n",
       "      <td>1.861328</td>\n",
       "      <td>-1.701172</td>\n",
       "      <td>-0.764648</td>\n",
       "      <td>...</td>\n",
       "      <td>0.115662</td>\n",
       "      <td>0.676758</td>\n",
       "      <td>0.273926</td>\n",
       "      <td>0.453857</td>\n",
       "      <td>0.833984</td>\n",
       "      <td>0.693848</td>\n",
       "      <td>0.59668</td>\n",
       "      <td>-0.020859</td>\n",
       "      <td>-0.777832</td>\n",
       "      <td>-1.65918</td>\n",
       "    </tr>\n",
       "  </tbody>\n",
       "</table>\n",
       "<p>1 rows × 72 columns</p>\n",
       "</div>"
      ],
      "text/plain": [
       "                    0         1         2         3         4         5  \\\n",
       "Id                                                                        \n",
       "100000-query  1.15918 -0.905273  0.812012  1.042969 -0.012222 -0.328369   \n",
       "\n",
       "                     6         7         8         9  ...        62        63  \\\n",
       "Id                                                    ...                       \n",
       "100000-query -0.253418  1.861328 -1.701172 -0.764648  ...  0.115662  0.676758   \n",
       "\n",
       "                    64        65        66        67       68        69  \\\n",
       "Id                                                                        \n",
       "100000-query  0.273926  0.453857  0.833984  0.693848  0.59668 -0.020859   \n",
       "\n",
       "                    70       71  \n",
       "Id                               \n",
       "100000-query -0.777832 -1.65918  \n",
       "\n",
       "[1 rows x 72 columns]"
      ]
     },
     "execution_count": 31,
     "metadata": {},
     "output_type": "execute_result"
    }
   ],
   "source": [
    "validation[:]=scaler.transform(validation[:])\n",
    "validation.head(1)"
   ]
  },
  {
   "cell_type": "code",
   "execution_count": 32,
   "id": "1391cef9",
   "metadata": {},
   "outputs": [],
   "source": [
    "expected=validation_answer['Expected'].copy()"
   ]
  },
  {
   "cell_type": "markdown",
   "id": "57c62b3f",
   "metadata": {},
   "source": [
    "#### Отбор кандидатов FAISS "
   ]
  },
  {
   "cell_type": "code",
   "execution_count": 33,
   "id": "8d9667ed",
   "metadata": {},
   "outputs": [],
   "source": [
    "k=300 #кандидатов"
   ]
  },
  {
   "cell_type": "code",
   "execution_count": 34,
   "id": "3fffea39",
   "metadata": {},
   "outputs": [
    {
     "name": "stdout",
     "output_type": "stream",
     "text": [
      "CPU times: total: 4h 23min 24s\n",
      "Wall time: 22min 58s\n"
     ]
    }
   ],
   "source": [
    "%%time\n",
    "vecs, idx = idx_l2.search(np.ascontiguousarray(validation.values).astype('float32'), k)  "
   ]
  },
  {
   "cell_type": "markdown",
   "id": "ad7c87a9",
   "metadata": {},
   "source": [
    "#### Объединим кандидатов в DataFrame"
   ]
  },
  {
   "cell_type": "code",
   "execution_count": 35,
   "id": "40605681",
   "metadata": {},
   "outputs": [
    {
     "name": "stderr",
     "output_type": "stream",
     "text": [
      "100%|██████████| 100000/100000 [00:34<00:00, 2923.78it/s]\n"
     ]
    },
    {
     "data": {
      "text/plain": [
       "(30000000, 3)"
      ]
     },
     "metadata": {},
     "output_type": "display_data"
    },
    {
     "data": {
      "text/html": [
       "<div>\n",
       "<style scoped>\n",
       "    .dataframe tbody tr th:only-of-type {\n",
       "        vertical-align: middle;\n",
       "    }\n",
       "\n",
       "    .dataframe tbody tr th {\n",
       "        vertical-align: top;\n",
       "    }\n",
       "\n",
       "    .dataframe thead th {\n",
       "        text-align: right;\n",
       "    }\n",
       "</style>\n",
       "<table border=\"1\" class=\"dataframe\">\n",
       "  <thead>\n",
       "    <tr style=\"text-align: right;\">\n",
       "      <th></th>\n",
       "      <th>id_name</th>\n",
       "      <th>id_cand_name</th>\n",
       "      <th>rank</th>\n",
       "    </tr>\n",
       "  </thead>\n",
       "  <tbody>\n",
       "    <tr>\n",
       "      <th>0</th>\n",
       "      <td>100000-query</td>\n",
       "      <td>3209652-base</td>\n",
       "      <td>0</td>\n",
       "    </tr>\n",
       "    <tr>\n",
       "      <th>1</th>\n",
       "      <td>100000-query</td>\n",
       "      <td>3181043-base</td>\n",
       "      <td>1</td>\n",
       "    </tr>\n",
       "  </tbody>\n",
       "</table>\n",
       "</div>"
      ],
      "text/plain": [
       "        id_name  id_cand_name  rank\n",
       "0  100000-query  3209652-base     0\n",
       "1  100000-query  3181043-base     1"
      ]
     },
     "execution_count": 35,
     "metadata": {},
     "output_type": "execute_result"
    }
   ],
   "source": [
    "lnew=[]\n",
    "for i in tqdm(range(len(idx))):   \n",
    "    lnew=con_candidate(i,idx[i],lnew,validation)\n",
    "\n",
    "df_t_new=pd.DataFrame(data=lnew,columns=['id_name','id_cand_name','rank'])\n",
    "display(df_t_new.shape)\n",
    "df_t_new.head(2)"
   ]
  },
  {
   "cell_type": "code",
   "execution_count": 36,
   "id": "9251881c",
   "metadata": {},
   "outputs": [],
   "source": [
    "del lnew"
   ]
  },
  {
   "cell_type": "markdown",
   "id": "f05520f6",
   "metadata": {},
   "source": [
    "#### Добавим признаки"
   ]
  },
  {
   "cell_type": "code",
   "execution_count": 37,
   "id": "b7b5cd2a",
   "metadata": {
    "scrolled": false
   },
   "outputs": [
    {
     "name": "stdout",
     "output_type": "stream",
     "text": [
      "CPU times: total: 9.17 s\n",
      "Wall time: 9.2 s\n"
     ]
    }
   ],
   "source": [
    "%%time \n",
    "#присоединим 'Target':  \n",
    "df=pd.merge(df_t_new, validation_answer[['Expected']], how='left', left_on='id_name', right_on=validation_answer.index).copy() "
   ]
  },
  {
   "cell_type": "code",
   "execution_count": 38,
   "id": "d120db67",
   "metadata": {
    "scrolled": true
   },
   "outputs": [
    {
     "name": "stdout",
     "output_type": "stream",
     "text": [
      "CPU times: total: 14.4 s\n",
      "Wall time: 14.4 s\n"
     ]
    },
    {
     "data": {
      "text/html": [
       "<div>\n",
       "<style scoped>\n",
       "    .dataframe tbody tr th:only-of-type {\n",
       "        vertical-align: middle;\n",
       "    }\n",
       "\n",
       "    .dataframe tbody tr th {\n",
       "        vertical-align: top;\n",
       "    }\n",
       "\n",
       "    .dataframe thead th {\n",
       "        text-align: right;\n",
       "    }\n",
       "</style>\n",
       "<table border=\"1\" class=\"dataframe\">\n",
       "  <thead>\n",
       "    <tr style=\"text-align: right;\">\n",
       "      <th></th>\n",
       "      <th>id_name</th>\n",
       "      <th>id_cand_name</th>\n",
       "      <th>rank</th>\n",
       "      <th>ground truth</th>\n",
       "    </tr>\n",
       "  </thead>\n",
       "  <tbody>\n",
       "    <tr>\n",
       "      <th>0</th>\n",
       "      <td>100000-query</td>\n",
       "      <td>3209652-base</td>\n",
       "      <td>0</td>\n",
       "      <td>0</td>\n",
       "    </tr>\n",
       "    <tr>\n",
       "      <th>1</th>\n",
       "      <td>100000-query</td>\n",
       "      <td>3181043-base</td>\n",
       "      <td>1</td>\n",
       "      <td>0</td>\n",
       "    </tr>\n",
       "  </tbody>\n",
       "</table>\n",
       "</div>"
      ],
      "text/plain": [
       "        id_name  id_cand_name  rank  ground truth\n",
       "0  100000-query  3209652-base     0             0\n",
       "1  100000-query  3181043-base     1             0"
      ]
     },
     "execution_count": 38,
     "metadata": {},
     "output_type": "execute_result"
    }
   ],
   "source": [
    "%%time\n",
    "df['ground truth']=(df[\"id_cand_name\"]==df[\"Expected\"])\n",
    "df['ground truth']=df['ground truth'].apply(lambda x: int(x))\n",
    "df=df.drop(['Expected'],axis=1)\n",
    "df.head(2)"
   ]
  },
  {
   "cell_type": "code",
   "execution_count": 39,
   "id": "aebff54a",
   "metadata": {
    "scrolled": true
   },
   "outputs": [
    {
     "data": {
      "text/html": [
       "<div>\n",
       "<style scoped>\n",
       "    .dataframe tbody tr th:only-of-type {\n",
       "        vertical-align: middle;\n",
       "    }\n",
       "\n",
       "    .dataframe tbody tr th {\n",
       "        vertical-align: top;\n",
       "    }\n",
       "\n",
       "    .dataframe thead th {\n",
       "        text-align: right;\n",
       "    }\n",
       "</style>\n",
       "<table border=\"1\" class=\"dataframe\">\n",
       "  <thead>\n",
       "    <tr style=\"text-align: right;\">\n",
       "      <th></th>\n",
       "      <th>id_name</th>\n",
       "      <th>id_cand_name</th>\n",
       "      <th>rank</th>\n",
       "      <th>ground truth</th>\n",
       "      <th>0</th>\n",
       "      <th>1</th>\n",
       "      <th>2</th>\n",
       "      <th>3</th>\n",
       "      <th>4</th>\n",
       "      <th>5</th>\n",
       "      <th>...</th>\n",
       "      <th>62_cand</th>\n",
       "      <th>63_cand</th>\n",
       "      <th>64_cand</th>\n",
       "      <th>65_cand</th>\n",
       "      <th>66_cand</th>\n",
       "      <th>67_cand</th>\n",
       "      <th>68_cand</th>\n",
       "      <th>69_cand</th>\n",
       "      <th>70_cand</th>\n",
       "      <th>71_cand</th>\n",
       "    </tr>\n",
       "  </thead>\n",
       "  <tbody>\n",
       "    <tr>\n",
       "      <th>0</th>\n",
       "      <td>100000-query</td>\n",
       "      <td>3209652-base</td>\n",
       "      <td>0</td>\n",
       "      <td>0</td>\n",
       "      <td>1.15918</td>\n",
       "      <td>-0.905273</td>\n",
       "      <td>0.812012</td>\n",
       "      <td>1.042969</td>\n",
       "      <td>-0.012222</td>\n",
       "      <td>-0.328369</td>\n",
       "      <td>...</td>\n",
       "      <td>0.458496</td>\n",
       "      <td>0.949219</td>\n",
       "      <td>0.571289</td>\n",
       "      <td>1.213867</td>\n",
       "      <td>0.902344</td>\n",
       "      <td>0.898438</td>\n",
       "      <td>0.019012</td>\n",
       "      <td>0.430664</td>\n",
       "      <td>-0.712891</td>\n",
       "      <td>-1.183594</td>\n",
       "    </tr>\n",
       "    <tr>\n",
       "      <th>1</th>\n",
       "      <td>100000-query</td>\n",
       "      <td>3181043-base</td>\n",
       "      <td>1</td>\n",
       "      <td>0</td>\n",
       "      <td>1.15918</td>\n",
       "      <td>-0.905273</td>\n",
       "      <td>0.812012</td>\n",
       "      <td>1.042969</td>\n",
       "      <td>-0.012222</td>\n",
       "      <td>-0.328369</td>\n",
       "      <td>...</td>\n",
       "      <td>0.191650</td>\n",
       "      <td>0.477539</td>\n",
       "      <td>-0.017059</td>\n",
       "      <td>0.169922</td>\n",
       "      <td>0.559570</td>\n",
       "      <td>0.766113</td>\n",
       "      <td>0.048553</td>\n",
       "      <td>0.406982</td>\n",
       "      <td>-0.712891</td>\n",
       "      <td>-1.284180</td>\n",
       "    </tr>\n",
       "  </tbody>\n",
       "</table>\n",
       "<p>2 rows × 148 columns</p>\n",
       "</div>"
      ],
      "text/plain": [
       "        id_name  id_cand_name  rank  ground truth        0         1  \\\n",
       "0  100000-query  3209652-base     0             0  1.15918 -0.905273   \n",
       "1  100000-query  3181043-base     1             0  1.15918 -0.905273   \n",
       "\n",
       "          2         3         4         5  ...   62_cand   63_cand   64_cand  \\\n",
       "0  0.812012  1.042969 -0.012222 -0.328369  ...  0.458496  0.949219  0.571289   \n",
       "1  0.812012  1.042969 -0.012222 -0.328369  ...  0.191650  0.477539 -0.017059   \n",
       "\n",
       "    65_cand   66_cand   67_cand   68_cand   69_cand   70_cand   71_cand  \n",
       "0  1.213867  0.902344  0.898438  0.019012  0.430664 -0.712891 -1.183594  \n",
       "1  0.169922  0.559570  0.766113  0.048553  0.406982 -0.712891 -1.284180  \n",
       "\n",
       "[2 rows x 148 columns]"
      ]
     },
     "execution_count": 39,
     "metadata": {},
     "output_type": "execute_result"
    }
   ],
   "source": [
    "#присоединим хар-ки основного товара:\n",
    "df=pd.merge(df, validation, how='left', left_on='id_name', right_on=validation.index).copy()   \n",
    "\n",
    "#присоединим хар-ки кандидатов\n",
    "df=pd.merge(df, base.add_suffix('_cand'), how='left', left_on='id_cand_name', right_on=base.index).copy() \n",
    "df.head(2)"
   ]
  },
  {
   "cell_type": "code",
   "execution_count": 40,
   "id": "7ec5f286",
   "metadata": {},
   "outputs": [],
   "source": [
    "df['abs70']=abs(df['70']-df['70_cand'])\n",
    "df['abs33']=abs(df['33']-df['33_cand'])\n",
    "df['abs6']=abs(df['6']-df['6_cand'])\n",
    "df['abs44']=abs(df['44']-df['44_cand'])\n",
    "df['abs21']=abs(df['21']-df['21_cand'])"
   ]
  },
  {
   "cell_type": "markdown",
   "id": "5bce1b23",
   "metadata": {},
   "source": [
    "#### Ранжирование"
   ]
  },
  {
   "cell_type": "code",
   "execution_count": 41,
   "id": "605f5ee8",
   "metadata": {
    "scrolled": true
   },
   "outputs": [
    {
     "name": "stdout",
     "output_type": "stream",
     "text": [
      "CPU times: total: 0 ns\n",
      "Wall time: 0 ns\n"
     ]
    },
    {
     "data": {
      "text/html": [
       "<div>\n",
       "<style scoped>\n",
       "    .dataframe tbody tr th:only-of-type {\n",
       "        vertical-align: middle;\n",
       "    }\n",
       "\n",
       "    .dataframe tbody tr th {\n",
       "        vertical-align: top;\n",
       "    }\n",
       "\n",
       "    .dataframe thead th {\n",
       "        text-align: right;\n",
       "    }\n",
       "</style>\n",
       "<table border=\"1\" class=\"dataframe\">\n",
       "  <thead>\n",
       "    <tr style=\"text-align: right;\">\n",
       "      <th></th>\n",
       "      <th>id_name</th>\n",
       "      <th>id_cand_name</th>\n",
       "      <th>rank</th>\n",
       "      <th>ground truth</th>\n",
       "      <th>0</th>\n",
       "      <th>1</th>\n",
       "      <th>2</th>\n",
       "      <th>3</th>\n",
       "      <th>4</th>\n",
       "      <th>5</th>\n",
       "      <th>...</th>\n",
       "      <th>68_cand</th>\n",
       "      <th>69_cand</th>\n",
       "      <th>70_cand</th>\n",
       "      <th>71_cand</th>\n",
       "      <th>abs70</th>\n",
       "      <th>abs33</th>\n",
       "      <th>abs6</th>\n",
       "      <th>abs44</th>\n",
       "      <th>abs21</th>\n",
       "      <th>cb_proba</th>\n",
       "    </tr>\n",
       "  </thead>\n",
       "  <tbody>\n",
       "    <tr>\n",
       "      <th>0</th>\n",
       "      <td>100000-query</td>\n",
       "      <td>3209652-base</td>\n",
       "      <td>0</td>\n",
       "      <td>0</td>\n",
       "      <td>1.15918</td>\n",
       "      <td>-0.905273</td>\n",
       "      <td>0.812012</td>\n",
       "      <td>1.042969</td>\n",
       "      <td>-0.012222</td>\n",
       "      <td>-0.328369</td>\n",
       "      <td>...</td>\n",
       "      <td>0.019012</td>\n",
       "      <td>0.430664</td>\n",
       "      <td>-0.712891</td>\n",
       "      <td>-1.183594</td>\n",
       "      <td>0.064941</td>\n",
       "      <td>0.318848</td>\n",
       "      <td>1.082031</td>\n",
       "      <td>0.0</td>\n",
       "      <td>0.189453</td>\n",
       "      <td>0.751202</td>\n",
       "    </tr>\n",
       "  </tbody>\n",
       "</table>\n",
       "<p>1 rows × 154 columns</p>\n",
       "</div>"
      ],
      "text/plain": [
       "        id_name  id_cand_name  rank  ground truth        0         1  \\\n",
       "0  100000-query  3209652-base     0             0  1.15918 -0.905273   \n",
       "\n",
       "          2         3         4         5  ...   68_cand   69_cand   70_cand  \\\n",
       "0  0.812012  1.042969 -0.012222 -0.328369  ...  0.019012  0.430664 -0.712891   \n",
       "\n",
       "    71_cand     abs70     abs33      abs6  abs44     abs21  cb_proba  \n",
       "0 -1.183594  0.064941  0.318848  1.082031    0.0  0.189453  0.751202  \n",
       "\n",
       "[1 rows x 154 columns]"
      ]
     },
     "execution_count": 41,
     "metadata": {},
     "output_type": "execute_result"
    }
   ],
   "source": [
    "%time\n",
    "features_test_m=df.copy()\n",
    "features_test_m[\"cb_proba\"] = model.predict_proba(features_test_m[feat_col])[:,1]\n",
    "features_test_m.head(1)"
   ]
  },
  {
   "cell_type": "code",
   "execution_count": 42,
   "id": "dabb9d0a",
   "metadata": {},
   "outputs": [
    {
     "data": {
      "text/html": [
       "<div>\n",
       "<style scoped>\n",
       "    .dataframe tbody tr th:only-of-type {\n",
       "        vertical-align: middle;\n",
       "    }\n",
       "\n",
       "    .dataframe tbody tr th {\n",
       "        vertical-align: top;\n",
       "    }\n",
       "\n",
       "    .dataframe thead th {\n",
       "        text-align: right;\n",
       "    }\n",
       "</style>\n",
       "<table border=\"1\" class=\"dataframe\">\n",
       "  <thead>\n",
       "    <tr style=\"text-align: right;\">\n",
       "      <th></th>\n",
       "      <th>id_name</th>\n",
       "      <th>id_cand_name</th>\n",
       "      <th>rank</th>\n",
       "      <th>cb_proba</th>\n",
       "      <th>ground truth</th>\n",
       "    </tr>\n",
       "  </thead>\n",
       "  <tbody>\n",
       "    <tr>\n",
       "      <th>0</th>\n",
       "      <td>100000-query</td>\n",
       "      <td>3209652-base</td>\n",
       "      <td>0</td>\n",
       "      <td>0.751202</td>\n",
       "      <td>0</td>\n",
       "    </tr>\n",
       "    <tr>\n",
       "      <th>1</th>\n",
       "      <td>100000-query</td>\n",
       "      <td>3181043-base</td>\n",
       "      <td>1</td>\n",
       "      <td>0.169069</td>\n",
       "      <td>0</td>\n",
       "    </tr>\n",
       "  </tbody>\n",
       "</table>\n",
       "</div>"
      ],
      "text/plain": [
       "        id_name  id_cand_name  rank  cb_proba  ground truth\n",
       "0  100000-query  3209652-base     0  0.751202             0\n",
       "1  100000-query  3181043-base     1  0.169069             0"
      ]
     },
     "execution_count": 42,
     "metadata": {},
     "output_type": "execute_result"
    }
   ],
   "source": [
    "#оставим только важные столбцы\n",
    "dff=features_test_m[['id_name','id_cand_name','rank','cb_proba','ground truth']]\n",
    "dff.head(2)"
   ]
  },
  {
   "cell_type": "code",
   "execution_count": 43,
   "id": "30096070",
   "metadata": {
    "scrolled": false
   },
   "outputs": [
    {
     "data": {
      "text/plain": [
       "(500000, 5)"
      ]
     },
     "metadata": {},
     "output_type": "display_data"
    },
    {
     "data": {
      "text/html": [
       "<div>\n",
       "<style scoped>\n",
       "    .dataframe tbody tr th:only-of-type {\n",
       "        vertical-align: middle;\n",
       "    }\n",
       "\n",
       "    .dataframe tbody tr th {\n",
       "        vertical-align: top;\n",
       "    }\n",
       "\n",
       "    .dataframe thead th {\n",
       "        text-align: right;\n",
       "    }\n",
       "</style>\n",
       "<table border=\"1\" class=\"dataframe\">\n",
       "  <thead>\n",
       "    <tr style=\"text-align: right;\">\n",
       "      <th></th>\n",
       "      <th>id_name</th>\n",
       "      <th>id_cand_name</th>\n",
       "      <th>rank</th>\n",
       "      <th>cb_proba</th>\n",
       "      <th>ground truth</th>\n",
       "    </tr>\n",
       "  </thead>\n",
       "  <tbody>\n",
       "    <tr>\n",
       "      <th>29999719</th>\n",
       "      <td>199999-query</td>\n",
       "      <td>336472-base</td>\n",
       "      <td>19</td>\n",
       "      <td>0.939936</td>\n",
       "      <td>1</td>\n",
       "    </tr>\n",
       "    <tr>\n",
       "      <th>29999700</th>\n",
       "      <td>199999-query</td>\n",
       "      <td>4678196-base</td>\n",
       "      <td>0</td>\n",
       "      <td>0.714402</td>\n",
       "      <td>0</td>\n",
       "    </tr>\n",
       "    <tr>\n",
       "      <th>29999701</th>\n",
       "      <td>199999-query</td>\n",
       "      <td>3842322-base</td>\n",
       "      <td>1</td>\n",
       "      <td>0.286314</td>\n",
       "      <td>0</td>\n",
       "    </tr>\n",
       "    <tr>\n",
       "      <th>29999705</th>\n",
       "      <td>199999-query</td>\n",
       "      <td>2503531-base</td>\n",
       "      <td>5</td>\n",
       "      <td>0.095968</td>\n",
       "      <td>0</td>\n",
       "    </tr>\n",
       "    <tr>\n",
       "      <th>29999725</th>\n",
       "      <td>199999-query</td>\n",
       "      <td>2818124-base</td>\n",
       "      <td>25</td>\n",
       "      <td>0.054467</td>\n",
       "      <td>0</td>\n",
       "    </tr>\n",
       "    <tr>\n",
       "      <th>29999400</th>\n",
       "      <td>199998-query</td>\n",
       "      <td>341779-base</td>\n",
       "      <td>0</td>\n",
       "      <td>0.999860</td>\n",
       "      <td>1</td>\n",
       "    </tr>\n",
       "  </tbody>\n",
       "</table>\n",
       "</div>"
      ],
      "text/plain": [
       "               id_name  id_cand_name  rank  cb_proba  ground truth\n",
       "29999719  199999-query   336472-base    19  0.939936             1\n",
       "29999700  199999-query  4678196-base     0  0.714402             0\n",
       "29999701  199999-query  3842322-base     1  0.286314             0\n",
       "29999705  199999-query  2503531-base     5  0.095968             0\n",
       "29999725  199999-query  2818124-base    25  0.054467             0\n",
       "29999400  199998-query   341779-base     0  0.999860             1"
      ]
     },
     "execution_count": 43,
     "metadata": {},
     "output_type": "execute_result"
    }
   ],
   "source": [
    "dff_table=dff.sort_values(['id_name','cb_proba'],ascending=False).groupby('id_name').head(5) # отсортируем по убыванию  \n",
    "display(dff_table.shape)\n",
    "dff_table.head(6)"
   ]
  },
  {
   "cell_type": "markdown",
   "id": "ce653b88",
   "metadata": {},
   "source": [
    "#### Расчет метрики"
   ]
  },
  {
   "cell_type": "markdown",
   "id": "6d9e624e",
   "metadata": {},
   "source": [
    "Для расчета метрики, отсортируем кандидатов по вероятности и возьмем топ-5. Затем, можно просто проссумировать единички с колонки \"ground truth\" и поделить на количество товаров"
   ]
  },
  {
   "cell_type": "code",
   "execution_count": 44,
   "id": "5b65f268",
   "metadata": {},
   "outputs": [
    {
     "data": {
      "text/plain": [
       "78.676"
      ]
     },
     "execution_count": 44,
     "metadata": {},
     "output_type": "execute_result"
    }
   ],
   "source": [
    "acc5=(dff_table['ground truth'].sum())/ (len(dff_table)/5) *100  #среднее число единиц на каждую пятерку строк, в % \n",
    "acc5"
   ]
  },
  {
   "cell_type": "markdown",
   "id": "78f05682",
   "metadata": {},
   "source": [
    "## Выводы:"
   ]
  },
  {
   "cell_type": "markdown",
   "id": "41e29a52",
   "metadata": {},
   "source": [
    "Разработали двух-этапную модель для поиска наиболее похожих товаров. \n",
    "\n",
    "На первом этапе отобрали 100 кандидатов с помощью FAISS для каждого товара из трейн. И сформировали обучающий набор для модели CatBoostClassifier. 10% полученной выборки отделили для валидации модели. После обучения катбуста, проверили нашу модель на валидационной выборке. Для валидационного набора отбирали большее число кандидатов с помощью FAISS, из которых, с пмощью катбуста выбрали 5 с наибольшим значением predict_proba. \n",
    "\n",
    "Таким образом, удалось добиться хорошей метрики accuracy@5 - 78.676. "
   ]
  }
 ],
 "metadata": {
  "kernelspec": {
   "display_name": "Python 3 (ipykernel)",
   "language": "python",
   "name": "python3"
  },
  "language_info": {
   "codemirror_mode": {
    "name": "ipython",
    "version": 3
   },
   "file_extension": ".py",
   "mimetype": "text/x-python",
   "name": "python",
   "nbconvert_exporter": "python",
   "pygments_lexer": "ipython3",
   "version": "3.9.12"
  },
  "toc": {
   "base_numbering": 1,
   "nav_menu": {},
   "number_sections": true,
   "sideBar": true,
   "skip_h1_title": true,
   "title_cell": "Table of Contents",
   "title_sidebar": "Contents",
   "toc_cell": true,
   "toc_position": {
    "height": "calc(100% - 180px)",
    "left": "10px",
    "top": "150px",
    "width": "315px"
   },
   "toc_section_display": true,
   "toc_window_display": true
  }
 },
 "nbformat": 4,
 "nbformat_minor": 5
}
